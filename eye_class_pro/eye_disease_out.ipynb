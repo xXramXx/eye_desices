{
 "cells": [
  {
   "cell_type": "code",
   "execution_count": 12,
   "metadata": {},
   "outputs": [],
   "source": [
    "from tensorflow.keras.models import load_model\n",
    "import matplotlib.pyplot as plt\n",
    "import numpy as np\n",
    "import cv2\n",
    "\n",
    "model_1=load_model('eye_insepv3-model_1.1.h5')\n",
    "img=plt.imread('F:\\\\Explore\\\\mechine\\\\paper\\\\pro\\\\eye_dis\\\\eye_class_pro\\\\cnv-36.jpeg')"
   ]
  },
  {
   "cell_type": "code",
   "execution_count": 13,
   "metadata": {},
   "outputs": [],
   "source": [
    "def shape_data(img):\n",
    "    img=cv2.resize(img,(128,128))\n",
    "    img=cv2.normalize(img,None,alpha=0,beta=1,norm_type=cv2.NORM_MINMAX, dtype=cv2.CV_32F)\n",
    "    return img  "
   ]
  },
  {
   "cell_type": "code",
   "execution_count": 14,
   "metadata": {},
   "outputs": [
    {
     "ename": "ValueError",
     "evalue": "cannot reshape array of size 16384 into shape (128,128,3)",
     "output_type": "error",
     "traceback": [
      "\u001b[1;31m---------------------------------------------------------------------------\u001b[0m",
      "\u001b[1;31mValueError\u001b[0m                                Traceback (most recent call last)",
      "Cell \u001b[1;32mIn [14], line 4\u001b[0m\n\u001b[0;32m      1\u001b[0m \u001b[38;5;28mcls\u001b[39m\u001b[38;5;241m=\u001b[39m[\u001b[38;5;124m'\u001b[39m\u001b[38;5;124mCNV\u001b[39m\u001b[38;5;124m'\u001b[39m,\u001b[38;5;124m'\u001b[39m\u001b[38;5;124mDME\u001b[39m\u001b[38;5;124m'\u001b[39m,\u001b[38;5;124m'\u001b[39m\u001b[38;5;124mDRUSEN\u001b[39m\u001b[38;5;124m'\u001b[39m,\u001b[38;5;124m'\u001b[39m\u001b[38;5;124mNORMAL\u001b[39m\u001b[38;5;124m'\u001b[39m]\n\u001b[0;32m      3\u001b[0m tt_img \u001b[38;5;241m=\u001b[39m shape_data(img)\n\u001b[1;32m----> 4\u001b[0m img2\u001b[38;5;241m=\u001b[39mnp\u001b[38;5;241m.\u001b[39marray(tt_img)\u001b[38;5;241m.\u001b[39mreshape(\u001b[38;5;241m-\u001b[39m\u001b[38;5;241m1\u001b[39m,\u001b[38;5;241m128\u001b[39m,\u001b[38;5;241m128\u001b[39m,\u001b[38;5;241m3\u001b[39m)\n\u001b[0;32m      5\u001b[0m res\u001b[38;5;241m=\u001b[39mnp\u001b[38;5;241m.\u001b[39margmax(model_1\u001b[38;5;241m.\u001b[39mpredict(img2))\n\u001b[0;32m      6\u001b[0m \u001b[38;5;28mprint\u001b[39m(\u001b[38;5;28mcls\u001b[39m[res])\n",
      "\u001b[1;31mValueError\u001b[0m: cannot reshape array of size 16384 into shape (128,128,3)"
     ]
    }
   ],
   "source": [
    "cls=['CNV','DME','DRUSEN','NORMAL']\n",
    "\n",
    "tt_img = shape_data(img)\n",
    "img2=np.array(tt_img).reshape(-1,128,128,3)\n",
    "res=np.argmax(model_1.predict(img2))\n",
    "print(cls[res])\n",
    "plt.imshow()"
   ]
  },
  {
   "cell_type": "code",
   "execution_count": null,
   "metadata": {},
   "outputs": [],
   "source": []
  }
 ],
 "metadata": {
  "kernelspec": {
   "display_name": "Python 3 (ipykernel)",
   "language": "python",
   "name": "python3"
  },
  "language_info": {
   "codemirror_mode": {
    "name": "ipython",
    "version": 3
   },
   "file_extension": ".py",
   "mimetype": "text/x-python",
   "name": "python",
   "nbconvert_exporter": "python",
   "pygments_lexer": "ipython3",
   "version": "3.10.11"
  },
  "vscode": {
   "interpreter": {
    "hash": "0628b8874f483bd438e17152c2db0985552d602dccce299621f3686ba389c8dd"
   }
  }
 },
 "nbformat": 4,
 "nbformat_minor": 2
}
